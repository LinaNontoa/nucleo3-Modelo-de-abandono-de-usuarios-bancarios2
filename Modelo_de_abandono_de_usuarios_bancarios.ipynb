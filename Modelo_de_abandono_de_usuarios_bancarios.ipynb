{
  "nbformat": 4,
  "nbformat_minor": 0,
  "metadata": {
    "colab": {
      "provenance": [],
      "authorship_tag": "ABX9TyOWLuar88HKRB9FRErnLlQY",
      "include_colab_link": true
    },
    "kernelspec": {
      "name": "python3",
      "display_name": "Python 3"
    },
    "language_info": {
      "name": "python"
    }
  },
  "cells": [
    {
      "cell_type": "markdown",
      "metadata": {
        "id": "view-in-github",
        "colab_type": "text"
      },
      "source": [
        "<a href=\"https://colab.research.google.com/github/LinaNontoa/nucleo3-Modelo-de-abandono-de-usuarios-bancarios2/blob/main/Modelo_de_abandono_de_usuarios_bancarios.ipynb\" target=\"_parent\"><img src=\"https://colab.research.google.com/assets/colab-badge.svg\" alt=\"Open In Colab\"/></a>"
      ]
    },
    {
      "cell_type": "code",
      "execution_count": null,
      "metadata": {
        "id": "6-I6QjVGCilL"
      },
      "outputs": [],
      "source": [
        "#Notebook para mostrar los diferentes factores que inciden en la deserción de clientes en una entidad bancaria"
      ]
    },
    {
      "cell_type": "code",
      "source": [
        "# Librerías"
      ],
      "metadata": {
        "id": "Sz9laKiFCnpz"
      },
      "execution_count": null,
      "outputs": []
    },
    {
      "cell_type": "code",
      "source": [
        "import pandas as pd\n",
        "import numpy as np\n",
        "from google.colab import files\n"
      ],
      "metadata": {
        "id": "hbxjxRmyDEJN"
      },
      "execution_count": 6,
      "outputs": []
    },
    {
      "cell_type": "code",
      "source": [
        "# Archivos de datos y funciones"
      ],
      "metadata": {
        "id": "xTOJyHYwEhpa"
      },
      "execution_count": null,
      "outputs": []
    },
    {
      "cell_type": "code",
      "source": [
        "import pandas as pd\n",
        "import numpy as np\n",
        "from sklearn.model_selection import train_test_split\n",
        "from sklearn.ensemble import RandomForestClassifier\n",
        "from sklearn.metrics import confusion_matrix, accuracy_score, classification_report\n",
        "from sklearn.model_selection import GridSearchCV"
      ],
      "metadata": {
        "id": "q5vM7JirNyKR"
      },
      "execution_count": 7,
      "outputs": []
    },
    {
      "cell_type": "code",
      "source": [
        "#Datos"
      ],
      "metadata": {
        "id": "FEBgZ-cIc7Ra"
      },
      "execution_count": null,
      "outputs": []
    },
    {
      "cell_type": "code",
      "source": [],
      "metadata": {
        "id": "XfFcdlt5c-8M"
      },
      "execution_count": null,
      "outputs": []
    }
  ]
}